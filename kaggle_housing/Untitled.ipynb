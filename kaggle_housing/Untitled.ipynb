{
 "cells": [
  {
   "cell_type": "code",
   "execution_count": 1,
   "metadata": {
    "collapsed": true
   },
   "outputs": [],
   "source": [
    "import pandas as pd\n",
    "import matplotlib.pyplot as plt\n",
    "import seaborn as sns\n",
    "import numpy as np\n",
    "from scipy.stats import norm\n",
    "from sklearn.preprocessing import StandardScaler\n",
    "from scipy import stats\n",
    "import warnings\n",
    "warnings.filterwarnings('ignore')"
   ]
  },
  {
   "cell_type": "markdown",
   "metadata": {},
   "source": [
    "In the above we just import some things we need.\n",
    "\n",
    "Here are some functions we might use."
   ]
  },
  {
   "cell_type": "code",
   "execution_count": 2,
   "metadata": {
    "collapsed": true
   },
   "outputs": [],
   "source": [
    "def plotScatter(xvar, yvar,df):\n",
    "    data = pd.concat([df[xvar],df[yvar]],axis=1)\n",
    "    data.plot.scatter(x=xvar,y=yvar)#,ylim=(0,800000))\n",
    "    plt.show()\n",
    "\n",
    "def corrHeatMap(df):\n",
    "    corrmat = df.corr()\n",
    "    f, ax = plt.subplots(figsize=(12, 9))\n",
    "    sns.heatmap(corrmat,vmax=.8,square=True)\n",
    "    plt.show()\n",
    "\n",
    "def histomize(df,ftr):\n",
    "    sns.distplot(df[ftr],fit=norm)\n",
    "    fig = plt.figure()\n",
    "    res = stats.probplot(df[ftr],plot=plt)\n",
    "    plt.show()\n",
    "\n",
    "def logify(df,ftr):\n",
    "    df[ftr] = np.log(df[ftr]+1)\n",
    "    \n",
    "def boolilogify(df,ftr,newftr):\n",
    "    df[newftr] = pd.Series(len(df[ftr]), index=df.index)\n",
    "    df[newftr] = 0 \n",
    "    df.loc[df[ftr]>0,newftr] = 1\n",
    "    #transform data\n",
    "    df.loc[df[newftr]==1,ftr] = np.log(df[ftr])"
   ]
  },
  {
   "cell_type": "code",
   "execution_count": 5,
   "metadata": {
    "collapsed": true
   },
   "outputs": [],
   "source": [
    "#import the data\n",
    "df_train = pd.read_csv(\"./data/train.csv\")\n",
    "df_test = pd.read_csv(\"./data/test.csv\")\n",
    "all_data = pd.concat((df_train.loc[:,'MSSubClass':'SaleCondition'],\n",
    "                      df_test.loc[:,'MSSubClass':'SaleCondition']))"
   ]
  },
  {
   "cell_type": "markdown",
   "metadata": {},
   "source": [
    "Let's now combine the test and training sets so we can do the same transformations for both sets."
   ]
  },
  {
   "cell_type": "code",
   "execution_count": null,
   "metadata": {
    "collapsed": true
   },
   "outputs": [],
   "source": []
  }
 ],
 "metadata": {
  "kernelspec": {
   "display_name": "Python 3",
   "language": "python",
   "name": "python3"
  },
  "language_info": {
   "codemirror_mode": {
    "name": "ipython",
    "version": 3
   },
   "file_extension": ".py",
   "mimetype": "text/x-python",
   "name": "python",
   "nbconvert_exporter": "python",
   "pygments_lexer": "ipython3",
   "version": "3.6.0"
  }
 },
 "nbformat": 4,
 "nbformat_minor": 2
}
